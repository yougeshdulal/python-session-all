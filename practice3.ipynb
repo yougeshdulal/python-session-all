{
 "cells": [
  {
   "cell_type": "code",
   "execution_count": null,
   "id": "ab22bd84",
   "metadata": {},
   "outputs": [],
   "source": [
    "std_detail = []\n",
    "n = int(input(\"Enter the number of students: \"))\n",
    "for i in range(n):\n",
    "    new_std = []\n",
    "    name = input(\"Enter the name: \")\n",
    "    age = int(input(\"enter age: \"))\n",
    "    marks = float(input(\"enter marks\"))\n",
    "    new_std.append(name)\n",
    "    new_std.append(age)\n",
    "    new_std.append(marks)\n",
    "    std_detail.append(new_std)\n",
    "\n",
    "    \n",
    "print(std_detail)"
   ]
  },
  {
   "cell_type": "code",
   "execution_count": 1,
   "id": "487d1e11",
   "metadata": {},
   "outputs": [],
   "source": [
    "import csv\n",
    "import pandas as pd"
   ]
  },
  {
   "cell_type": "code",
   "execution_count": 2,
   "id": "5ad7fe31",
   "metadata": {},
   "outputs": [
    {
     "name": "stdout",
     "output_type": "stream",
     "text": [
      "Enter the number of students: 2\n",
      "Enter the name: avishek\n",
      "enter age: 22\n",
      "enter marks: 55\n",
      "Enter the name: ram\n",
      "enter age: 45\n",
      "enter marks: 99\n",
      "[['avishek', 22, 55.0], ['ram', 45, 99.0]]\n",
      "Student details stored successfully.\n"
     ]
    }
   ],
   "source": [
    "std_detail2 = []\n",
    "def add_detail(n1:int)->None:\n",
    "    for i in range(n1):\n",
    "            new_std1 = []\n",
    "            name = input(\"Enter the name: \")\n",
    "            age = int(input(\"enter age: \"))\n",
    "            marks = float(input(\"enter marks: \"))\n",
    "            new_std1.append(name)\n",
    "            new_std1.append(age)\n",
    "            new_std1.append(marks)\n",
    "            std_detail2.append(new_std1)\n",
    "    return std_detail2\n",
    "while True:\n",
    "    try:\n",
    "        n = int(input(\"Enter the number of students: \"))\n",
    "        std_detail2 = add_detail(n)\n",
    "        print(std_detail2)\n",
    "        with open('student_details.csv', 'a', newline='') as file:\n",
    "                writer = csv.writer(file)\n",
    "                writer.writerow(['Name', 'Age', 'Marks'])\n",
    "                writer.writerows(std_detail2)\n",
    "        print(\"Student details stored successfully.\")\n",
    "        break\n",
    "\n",
    "    except Exception as ex:\n",
    "        print(ex.__doc__)"
   ]
  },
  {
   "cell_type": "code",
   "execution_count": 3,
   "id": "59f7adbf",
   "metadata": {},
   "outputs": [
    {
     "data": {
      "text/html": [
       "<div>\n",
       "<style scoped>\n",
       "    .dataframe tbody tr th:only-of-type {\n",
       "        vertical-align: middle;\n",
       "    }\n",
       "\n",
       "    .dataframe tbody tr th {\n",
       "        vertical-align: top;\n",
       "    }\n",
       "\n",
       "    .dataframe thead th {\n",
       "        text-align: right;\n",
       "    }\n",
       "</style>\n",
       "<table border=\"1\" class=\"dataframe\">\n",
       "  <thead>\n",
       "    <tr style=\"text-align: right;\">\n",
       "      <th></th>\n",
       "      <th>Name</th>\n",
       "      <th>Age</th>\n",
       "      <th>Marks</th>\n",
       "    </tr>\n",
       "  </thead>\n",
       "  <tbody>\n",
       "    <tr>\n",
       "      <th>0</th>\n",
       "      <td>avishek</td>\n",
       "      <td>22</td>\n",
       "      <td>55.0</td>\n",
       "    </tr>\n",
       "    <tr>\n",
       "      <th>1</th>\n",
       "      <td>ram</td>\n",
       "      <td>45</td>\n",
       "      <td>99.0</td>\n",
       "    </tr>\n",
       "  </tbody>\n",
       "</table>\n",
       "</div>"
      ],
      "text/plain": [
       "      Name  Age  Marks\n",
       "0  avishek   22   55.0\n",
       "1      ram   45   99.0"
      ]
     },
     "execution_count": 3,
     "metadata": {},
     "output_type": "execute_result"
    }
   ],
   "source": [
    "df = pd.read_csv(\"student_details.csv\")\n",
    "df"
   ]
  },
  {
   "cell_type": "code",
   "execution_count": 7,
   "id": "e2913311",
   "metadata": {},
   "outputs": [
    {
     "data": {
      "text/html": [
       "<div>\n",
       "<style scoped>\n",
       "    .dataframe tbody tr th:only-of-type {\n",
       "        vertical-align: middle;\n",
       "    }\n",
       "\n",
       "    .dataframe tbody tr th {\n",
       "        vertical-align: top;\n",
       "    }\n",
       "\n",
       "    .dataframe thead th {\n",
       "        text-align: right;\n",
       "    }\n",
       "</style>\n",
       "<table border=\"1\" class=\"dataframe\">\n",
       "  <thead>\n",
       "    <tr style=\"text-align: right;\">\n",
       "      <th></th>\n",
       "      <th>Name</th>\n",
       "      <th>Age</th>\n",
       "      <th>Marks</th>\n",
       "    </tr>\n",
       "  </thead>\n",
       "  <tbody>\n",
       "    <tr>\n",
       "      <th>1</th>\n",
       "      <td>ram</td>\n",
       "      <td>45</td>\n",
       "      <td>99.0</td>\n",
       "    </tr>\n",
       "  </tbody>\n",
       "</table>\n",
       "</div>"
      ],
      "text/plain": [
       "  Name  Age  Marks\n",
       "1  ram   45   99.0"
      ]
     },
     "execution_count": 7,
     "metadata": {},
     "output_type": "execute_result"
    }
   ],
   "source": [
    "df[df[\"Marks\"]>70]"
   ]
  },
  {
   "cell_type": "code",
   "execution_count": 9,
   "id": "e733046c",
   "metadata": {},
   "outputs": [
    {
     "data": {
      "text/plain": [
       "0    22\n",
       "1    45\n",
       "Name: Age, dtype: int64"
      ]
     },
     "execution_count": 9,
     "metadata": {},
     "output_type": "execute_result"
    }
   ],
   "source": [
    "df.iloc[:,1]"
   ]
  },
  {
   "cell_type": "code",
   "execution_count": 10,
   "id": "96d258af",
   "metadata": {},
   "outputs": [
    {
     "data": {
      "text/plain": [
       "'ram'"
      ]
     },
     "execution_count": 10,
     "metadata": {},
     "output_type": "execute_result"
    }
   ],
   "source": [
    "df.loc[1,'Name']"
   ]
  },
  {
   "cell_type": "code",
   "execution_count": 13,
   "id": "ea742e9e",
   "metadata": {},
   "outputs": [
    {
     "data": {
      "text/plain": [
       "0    55.0\n",
       "1    99.0\n",
       "Name: Marks, dtype: float64"
      ]
     },
     "execution_count": 13,
     "metadata": {},
     "output_type": "execute_result"
    }
   ],
   "source": [
    "df.Marks.iloc[:]"
   ]
  },
  {
   "cell_type": "code",
   "execution_count": null,
   "id": "155f0f24",
   "metadata": {},
   "outputs": [],
   "source": []
  }
 ],
 "metadata": {
  "kernelspec": {
   "display_name": "Python 3 (ipykernel)",
   "language": "python",
   "name": "python3"
  },
  "language_info": {
   "codemirror_mode": {
    "name": "ipython",
    "version": 3
   },
   "file_extension": ".py",
   "mimetype": "text/x-python",
   "name": "python",
   "nbconvert_exporter": "python",
   "pygments_lexer": "ipython3",
   "version": "3.11.1"
  }
 },
 "nbformat": 4,
 "nbformat_minor": 5
}
