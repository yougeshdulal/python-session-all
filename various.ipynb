{
 "cells": [
  {
   "cell_type": "code",
   "execution_count": 2,
   "id": "66220cbd",
   "metadata": {},
   "outputs": [
    {
     "name": "stdout",
     "output_type": "stream",
     "text": [
      "Hello 1\n",
      "Hello 2\n",
      "Hello 3\n",
      "Hello 4\n",
      "Hello 5\n",
      "Hello 6\n",
      "Hello 7\n",
      "Hello 8\n",
      "Hello 9\n"
     ]
    }
   ],
   "source": [
    "i = 1\n",
    "while i < 10:\n",
    "    print(f\"Hello {i}\")\n",
    "    i+=1"
   ]
  },
  {
   "cell_type": "code",
   "execution_count": 3,
   "id": "075693e1",
   "metadata": {},
   "outputs": [
    {
     "name": "stdout",
     "output_type": "stream",
     "text": [
      "Hello 1\n",
      "Hello 2\n",
      "Hello 3\n",
      "Hello 4\n",
      "Hello 5\n"
     ]
    }
   ],
   "source": [
    "i = 1\n",
    "while i < 10:\n",
    "    print(f\"Hello {i}\")\n",
    "    if i == 5:\n",
    "        break\n",
    "    i+=1"
   ]
  },
  {
   "cell_type": "code",
   "execution_count": 5,
   "id": "397eb8f9",
   "metadata": {},
   "outputs": [
    {
     "name": "stdout",
     "output_type": "stream",
     "text": [
      "Hello 1\n",
      "Hello 2\n",
      "Hello 3\n",
      "Hello 4\n",
      "Hello 6\n",
      "Hello 7\n",
      "Hello 8\n",
      "Hello 9\n"
     ]
    }
   ],
   "source": [
    "i = 1\n",
    "while i < 10:\n",
    "    if i == 5:\n",
    "        i+=1\n",
    "        continue\n",
    "    print(f\"Hello {i}\")\n",
    "    i+=1"
   ]
  },
  {
   "cell_type": "code",
   "execution_count": 7,
   "id": "f4fc2cef",
   "metadata": {},
   "outputs": [
    {
     "name": "stdout",
     "output_type": "stream",
     "text": [
      "Hello 1\n",
      "Hello 2\n",
      "Hello 3\n",
      "Hello 4\n",
      "Hello 5\n",
      "Hello 6\n",
      "Hello 7\n",
      "Hello 8\n",
      "Hello 9\n"
     ]
    }
   ],
   "source": [
    "i = 1\n",
    "while i < 10:\n",
    "    if i == 5:\n",
    "#         i+=1\n",
    "        pass\n",
    "    print(f\"Hello {i}\")\n",
    "    i+=1"
   ]
  },
  {
   "cell_type": "code",
   "execution_count": 9,
   "id": "ae9e499f",
   "metadata": {},
   "outputs": [
    {
     "name": "stdout",
     "output_type": "stream",
     "text": [
      "This is test\n"
     ]
    }
   ],
   "source": [
    "def func1():\n",
    "    print(\"This is inside func1\")\n",
    "    \n",
    "print(\"This is test\")"
   ]
  },
  {
   "cell_type": "code",
   "execution_count": 11,
   "id": "6ab72691",
   "metadata": {},
   "outputs": [
    {
     "name": "stdout",
     "output_type": "stream",
     "text": [
      "This is test\n"
     ]
    }
   ],
   "source": [
    "def func1():\n",
    "    pass\n",
    "    \n",
    "print(\"This is test\")"
   ]
  },
  {
   "cell_type": "code",
   "execution_count": 13,
   "id": "b75c1c2c",
   "metadata": {},
   "outputs": [
    {
     "name": "stdout",
     "output_type": "stream",
     "text": [
      "Enter add or sub sub\n",
      "Inside sub\n"
     ]
    }
   ],
   "source": [
    "user_choice = input(\"Enter add or sub \")\n",
    "if user_choice == 'add':\n",
    "    print(\"Inside add\")\n",
    "elif user_choice == 'sub':\n",
    "    print(\"Inside sub\")"
   ]
  },
  {
   "cell_type": "code",
   "execution_count": 14,
   "id": "d20cbc1a",
   "metadata": {},
   "outputs": [
    {
     "ename": "SyntaxError",
     "evalue": "invalid syntax (2966916520.py, line 2)",
     "output_type": "error",
     "traceback": [
      "\u001b[1;36m  Input \u001b[1;32mIn [14]\u001b[1;36m\u001b[0m\n\u001b[1;33m    match user_choice:\u001b[0m\n\u001b[1;37m          ^\u001b[0m\n\u001b[1;31mSyntaxError\u001b[0m\u001b[1;31m:\u001b[0m invalid syntax\n"
     ]
    }
   ],
   "source": [
    "user_choice = input(\"Enter add or sub \")\n",
    "match user_choice:\n",
    "    case 'add':\n",
    "        print(\"Inside add\")\n",
    "    case 'sub':\n",
    "        print(\"Inside sub\")"
   ]
  },
  {
   "cell_type": "code",
   "execution_count": 15,
   "id": "3487cca1",
   "metadata": {},
   "outputs": [
    {
     "ename": "SyntaxError",
     "evalue": "invalid syntax (149971732.py, line 2)",
     "output_type": "error",
     "traceback": [
      "\u001b[1;36m  Input \u001b[1;32mIn [15]\u001b[1;36m\u001b[0m\n\u001b[1;33m    match user_choice:\u001b[0m\n\u001b[1;37m          ^\u001b[0m\n\u001b[1;31mSyntaxError\u001b[0m\u001b[1;31m:\u001b[0m invalid syntax\n"
     ]
    }
   ],
   "source": [
    "user_choice = input(\"Enter add or sub \")\n",
    "match user_choice:\n",
    "    case 'add':\n",
    "        print(\"Inside add\")\n",
    "    case 'sub':\n",
    "        print(\"Inside sub\")\n",
    "    case _:\n",
    "        print(\"Invalid\")"
   ]
  },
  {
   "cell_type": "code",
   "execution_count": 16,
   "id": "3b50992a",
   "metadata": {},
   "outputs": [
    {
     "name": "stdout",
     "output_type": "stream",
     "text": [
      "22 and 33\n"
     ]
    }
   ],
   "source": [
    "def func1(a,b):\n",
    "    print(f\"{a} and {b}\")\n",
    "    \n",
    "    \n",
    "func1(22,33)"
   ]
  },
  {
   "cell_type": "code",
   "execution_count": 17,
   "id": "513800e8",
   "metadata": {},
   "outputs": [
    {
     "ename": "TypeError",
     "evalue": "func1() takes 2 positional arguments but 3 were given",
     "output_type": "error",
     "traceback": [
      "\u001b[1;31m---------------------------------------------------------------------------\u001b[0m",
      "\u001b[1;31mTypeError\u001b[0m                                 Traceback (most recent call last)",
      "Input \u001b[1;32mIn [17]\u001b[0m, in \u001b[0;36m<cell line: 5>\u001b[1;34m()\u001b[0m\n\u001b[0;32m      1\u001b[0m \u001b[38;5;28;01mdef\u001b[39;00m \u001b[38;5;21mfunc1\u001b[39m(a,b):\n\u001b[0;32m      2\u001b[0m     \u001b[38;5;28mprint\u001b[39m(\u001b[38;5;124mf\u001b[39m\u001b[38;5;124m\"\u001b[39m\u001b[38;5;132;01m{\u001b[39;00ma\u001b[38;5;132;01m}\u001b[39;00m\u001b[38;5;124m and \u001b[39m\u001b[38;5;132;01m{\u001b[39;00mb\u001b[38;5;132;01m}\u001b[39;00m\u001b[38;5;124m\"\u001b[39m)\n\u001b[1;32m----> 5\u001b[0m \u001b[43mfunc1\u001b[49m\u001b[43m(\u001b[49m\u001b[38;5;241;43m22\u001b[39;49m\u001b[43m,\u001b[49m\u001b[43m \u001b[49m\u001b[38;5;241;43m33\u001b[39;49m\u001b[43m,\u001b[49m\u001b[43m \u001b[49m\u001b[38;5;241;43m55\u001b[39;49m\u001b[43m)\u001b[49m\n",
      "\u001b[1;31mTypeError\u001b[0m: func1() takes 2 positional arguments but 3 were given"
     ]
    }
   ],
   "source": [
    "def func1(a,b):\n",
    "    print(f\"{a} and {b}\")\n",
    "    \n",
    "    \n",
    "func1(22, 33, 55)"
   ]
  },
  {
   "cell_type": "code",
   "execution_count": 18,
   "id": "8080e540",
   "metadata": {},
   "outputs": [
    {
     "name": "stdout",
     "output_type": "stream",
     "text": [
      "22 and 33 and 55\n"
     ]
    }
   ],
   "source": [
    "def func1(a,b,c):\n",
    "    print(f\"{a} and {b} and {c}\")\n",
    "    \n",
    "    \n",
    "func1(22, 33, 55)"
   ]
  },
  {
   "cell_type": "code",
   "execution_count": 19,
   "id": "5efcb01a",
   "metadata": {},
   "outputs": [
    {
     "ename": "TypeError",
     "evalue": "func1() missing 1 required positional argument: 'c'",
     "output_type": "error",
     "traceback": [
      "\u001b[1;31m---------------------------------------------------------------------------\u001b[0m",
      "\u001b[1;31mTypeError\u001b[0m                                 Traceback (most recent call last)",
      "Input \u001b[1;32mIn [19]\u001b[0m, in \u001b[0;36m<cell line: 5>\u001b[1;34m()\u001b[0m\n\u001b[0;32m      1\u001b[0m \u001b[38;5;28;01mdef\u001b[39;00m \u001b[38;5;21mfunc1\u001b[39m(a,b,c):\n\u001b[0;32m      2\u001b[0m     \u001b[38;5;28mprint\u001b[39m(\u001b[38;5;124mf\u001b[39m\u001b[38;5;124m\"\u001b[39m\u001b[38;5;132;01m{\u001b[39;00ma\u001b[38;5;132;01m}\u001b[39;00m\u001b[38;5;124m and \u001b[39m\u001b[38;5;132;01m{\u001b[39;00mb\u001b[38;5;132;01m}\u001b[39;00m\u001b[38;5;124m and \u001b[39m\u001b[38;5;132;01m{\u001b[39;00mc\u001b[38;5;132;01m}\u001b[39;00m\u001b[38;5;124m\"\u001b[39m)\n\u001b[1;32m----> 5\u001b[0m \u001b[43mfunc1\u001b[49m\u001b[43m(\u001b[49m\u001b[38;5;241;43m22\u001b[39;49m\u001b[43m,\u001b[49m\u001b[43m \u001b[49m\u001b[38;5;241;43m33\u001b[39;49m\u001b[43m)\u001b[49m\n",
      "\u001b[1;31mTypeError\u001b[0m: func1() missing 1 required positional argument: 'c'"
     ]
    }
   ],
   "source": [
    "def func1(a,b,c):\n",
    "    print(f\"{a} and {b} and {c}\")\n",
    "    \n",
    "    \n",
    "func1(22, 33)"
   ]
  },
  {
   "cell_type": "code",
   "execution_count": 20,
   "id": "79a665d7",
   "metadata": {},
   "outputs": [
    {
     "name": "stdout",
     "output_type": "stream",
     "text": [
      "22 and 33 and 0\n"
     ]
    }
   ],
   "source": [
    "def func1(a,b,c=0):\n",
    "    print(f\"{a} and {b} and {c}\")\n",
    "    \n",
    "    \n",
    "func1(22, 33)"
   ]
  },
  {
   "cell_type": "code",
   "execution_count": 22,
   "id": "55701e02",
   "metadata": {},
   "outputs": [
    {
     "name": "stdout",
     "output_type": "stream",
     "text": [
      "22 and 33 and 0\n"
     ]
    }
   ],
   "source": [
    "def func1(a,b,c=0):\n",
    "    print(f\"{a} and {b} and {c}\")\n",
    "    \n",
    "    \n",
    "func1(a=22, b=33)"
   ]
  },
  {
   "cell_type": "code",
   "execution_count": 24,
   "id": "c7fc47ae",
   "metadata": {},
   "outputs": [
    {
     "name": "stdout",
     "output_type": "stream",
     "text": [
      "(22, 33) <class 'tuple'>\n",
      "(22, 33, 55) <class 'tuple'>\n",
      "(22, 33, 71, 61) <class 'tuple'>\n"
     ]
    }
   ],
   "source": [
    "def func1(*args):\n",
    "    print(args, type(args))\n",
    "    \n",
    "    \n",
    "func1(22, 33)\n",
    "func1(22, 33, 55)\n",
    "func1(22, 33, 71, 61)"
   ]
  },
  {
   "cell_type": "code",
   "execution_count": 26,
   "id": "df10ad36",
   "metadata": {},
   "outputs": [
    {
     "name": "stdout",
     "output_type": "stream",
     "text": [
      "22 <class 'int'>\n",
      "33 <class 'int'>\n",
      "22 <class 'int'>\n",
      "33 <class 'int'>\n",
      "55 <class 'int'>\n",
      "22 <class 'int'>\n",
      "33 <class 'int'>\n",
      "71 <class 'int'>\n",
      "61 <class 'int'>\n"
     ]
    }
   ],
   "source": [
    "def func1(*args):\n",
    "    for i in args:\n",
    "        print(i, type(i))\n",
    "    \n",
    "    \n",
    "func1(22, 33)\n",
    "func1(22, 33, 55)\n",
    "func1(22, 33, 71, 61)"
   ]
  },
  {
   "cell_type": "code",
   "execution_count": 27,
   "id": "490ec690",
   "metadata": {},
   "outputs": [
    {
     "ename": "TypeError",
     "evalue": "func1() got an unexpected keyword argument 'name'",
     "output_type": "error",
     "traceback": [
      "\u001b[1;31m---------------------------------------------------------------------------\u001b[0m",
      "\u001b[1;31mTypeError\u001b[0m                                 Traceback (most recent call last)",
      "Input \u001b[1;32mIn [27]\u001b[0m, in \u001b[0;36m<cell line: 5>\u001b[1;34m()\u001b[0m\n\u001b[0;32m      1\u001b[0m \u001b[38;5;28;01mdef\u001b[39;00m \u001b[38;5;21mfunc1\u001b[39m(\u001b[38;5;241m*\u001b[39margs):\n\u001b[0;32m      2\u001b[0m     \u001b[38;5;28mprint\u001b[39m(args)\n\u001b[1;32m----> 5\u001b[0m \u001b[43mfunc1\u001b[49m\u001b[43m(\u001b[49m\u001b[43mname\u001b[49m\u001b[38;5;241;43m=\u001b[39;49m\u001b[38;5;124;43m'\u001b[39;49m\u001b[38;5;124;43mram\u001b[39;49m\u001b[38;5;124;43m'\u001b[39;49m\u001b[43m,\u001b[49m\u001b[43m \u001b[49m\u001b[43mage\u001b[49m\u001b[43m \u001b[49m\u001b[38;5;241;43m=\u001b[39;49m\u001b[43m \u001b[49m\u001b[38;5;241;43m22\u001b[39;49m\u001b[43m,\u001b[49m\u001b[43m \u001b[49m\u001b[43mmark\u001b[49m\u001b[43m \u001b[49m\u001b[38;5;241;43m=\u001b[39;49m\u001b[43m \u001b[49m\u001b[38;5;241;43m77.5\u001b[39;49m\u001b[43m)\u001b[49m\n",
      "\u001b[1;31mTypeError\u001b[0m: func1() got an unexpected keyword argument 'name'"
     ]
    }
   ],
   "source": [
    "def func1(*args):\n",
    "    print(args)\n",
    "    \n",
    "    \n",
    "func1(name='ram', age = 22, mark = 77.5)"
   ]
  },
  {
   "cell_type": "code",
   "execution_count": 29,
   "id": "c457db1f",
   "metadata": {},
   "outputs": [
    {
     "name": "stdout",
     "output_type": "stream",
     "text": [
      "{'name': 'ram', 'age': 22, 'mark': 77.5} <class 'dict'>\n"
     ]
    }
   ],
   "source": [
    "def func1(**kwargs):\n",
    "    print(kwargs, type(kwargs))\n",
    "    \n",
    "    \n",
    "func1(name='ram', age = 22, mark = 77.5)"
   ]
  },
  {
   "cell_type": "code",
   "execution_count": 30,
   "id": "163b398d",
   "metadata": {},
   "outputs": [
    {
     "name": "stdout",
     "output_type": "stream",
     "text": [
      "name\n",
      "age\n",
      "mark\n"
     ]
    }
   ],
   "source": [
    "def func1(**kwargs):\n",
    "    for i in kwargs:\n",
    "        print(i)\n",
    "    \n",
    "    \n",
    "func1(name='ram', age = 22, mark = 77.5)"
   ]
  },
  {
   "cell_type": "code",
   "execution_count": 31,
   "id": "bf80129d",
   "metadata": {},
   "outputs": [
    {
     "name": "stdout",
     "output_type": "stream",
     "text": [
      "name\n",
      "age\n",
      "mark\n"
     ]
    }
   ],
   "source": [
    "def func1(**kwargs):\n",
    "    for i in kwargs.keys():\n",
    "        print(i)\n",
    "    \n",
    "    \n",
    "func1(name='ram', age = 22, mark = 77.5)"
   ]
  },
  {
   "cell_type": "code",
   "execution_count": 32,
   "id": "89f7cac8",
   "metadata": {},
   "outputs": [
    {
     "name": "stdout",
     "output_type": "stream",
     "text": [
      "ram\n",
      "22\n",
      "77.5\n"
     ]
    }
   ],
   "source": [
    "def func1(**kwargs):\n",
    "    for i in kwargs.values():\n",
    "        print(i)\n",
    "    \n",
    "    \n",
    "func1(name='ram', age = 22, mark = 77.5)"
   ]
  },
  {
   "cell_type": "code",
   "execution_count": 33,
   "id": "4a2ab962",
   "metadata": {},
   "outputs": [
    {
     "name": "stdout",
     "output_type": "stream",
     "text": [
      "('name', 'ram')\n",
      "('age', 22)\n",
      "('mark', 77.5)\n"
     ]
    }
   ],
   "source": [
    "def func1(**kwargs):\n",
    "    for i in kwargs.items():\n",
    "        print(i)\n",
    "    \n",
    "    \n",
    "func1(name='ram', age = 22, mark = 77.5)"
   ]
  },
  {
   "cell_type": "code",
   "execution_count": 34,
   "id": "47d2521a",
   "metadata": {},
   "outputs": [
    {
     "name": "stdout",
     "output_type": "stream",
     "text": [
      "('name', 'ram')\n",
      "('age', 22)\n",
      "('mark', 77.5)\n"
     ]
    }
   ],
   "source": [
    "def func1(**kwargs):\n",
    "    for key in kwargs.items():\n",
    "        print(key)\n",
    "    \n",
    "    \n",
    "func1(name='ram', age = 22, mark = 77.5)"
   ]
  },
  {
   "cell_type": "code",
   "execution_count": 35,
   "id": "93f8e411",
   "metadata": {},
   "outputs": [
    {
     "name": "stdout",
     "output_type": "stream",
     "text": [
      "name ram\n",
      "age 22\n",
      "mark 77.5\n"
     ]
    }
   ],
   "source": [
    "def func1(**kwargs):\n",
    "    for key,value in kwargs.items():\n",
    "        print(key, value)\n",
    "    \n",
    "    \n",
    "func1(name='ram', age = 22, mark = 77.5)"
   ]
  },
  {
   "cell_type": "code",
   "execution_count": 38,
   "id": "168f8209",
   "metadata": {},
   "outputs": [
    {
     "name": "stdout",
     "output_type": "stream",
     "text": [
      "name ram\n",
      "age 22\n",
      "mark 77.5\n"
     ]
    }
   ],
   "source": [
    "def func1(**kwargs):\n",
    "    for i in kwargs.items():\n",
    "        key,value = i\n",
    "        print(key, value)\n",
    "    \n",
    "    \n",
    "func1(name='ram', age = 22, mark = 77.5)"
   ]
  },
  {
   "cell_type": "code",
   "execution_count": null,
   "id": "7f5eab6e",
   "metadata": {},
   "outputs": [],
   "source": []
  }
 ],
 "metadata": {
  "kernelspec": {
   "display_name": "Python 3 (ipykernel)",
   "language": "python",
   "name": "python3"
  },
  "language_info": {
   "codemirror_mode": {
    "name": "ipython",
    "version": 3
   },
   "file_extension": ".py",
   "mimetype": "text/x-python",
   "name": "python",
   "nbconvert_exporter": "python",
   "pygments_lexer": "ipython3",
   "version": "3.9.12"
  }
 },
 "nbformat": 4,
 "nbformat_minor": 5
}
