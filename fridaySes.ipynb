{
 "cells": [
  {
   "cell_type": "code",
   "execution_count": null,
   "id": "cc304698",
   "metadata": {},
   "outputs": [],
   "source": [
    "l1 = [22, 33, 5, 7, 22]\n",
    "# l1 = list()\n",
    "# l1 = []\n",
    "for i in l1:\n",
    "    print(i)\n",
    "print(f\"Sum is {sum(l1)}\")"
   ]
  },
  {
   "cell_type": "code",
   "execution_count": null,
   "id": "423e2ffb",
   "metadata": {},
   "outputs": [],
   "source": [
    "s = int()\n",
    "for i in l1:\n",
    "    s+= i  # s= s + i\n",
    "    print(f\"Sum at this point is {s}\")\n",
    "print(f\"Sum is {s}\")"
   ]
  },
  {
   "cell_type": "code",
   "execution_count": null,
   "id": "8d83ffc7",
   "metadata": {},
   "outputs": [],
   "source": [
    "if 90 in l1:\n",
    "    print(\"list1 contains 90\")\n",
    "else:\n",
    "    print(\"no 90\")"
   ]
  },
  {
   "cell_type": "code",
   "execution_count": null,
   "id": "af9beb0e",
   "metadata": {},
   "outputs": [],
   "source": [
    "l1 = [22, 33, 5, 7, 22]"
   ]
  },
  {
   "cell_type": "code",
   "execution_count": null,
   "id": "0ea9036b",
   "metadata": {},
   "outputs": [],
   "source": [
    "print(l1)"
   ]
  },
  {
   "cell_type": "code",
   "execution_count": null,
   "id": "e117ecd4",
   "metadata": {},
   "outputs": [],
   "source": [
    "l1.append(2)\n",
    "l1.append(3)\n",
    "print(l1)"
   ]
  },
  {
   "cell_type": "code",
   "execution_count": null,
   "id": "e83c4676",
   "metadata": {},
   "outputs": [],
   "source": [
    "l1.insert(2,9)\n",
    "print(l1)"
   ]
  },
  {
   "cell_type": "code",
   "execution_count": null,
   "id": "0b7b5e9e",
   "metadata": {},
   "outputs": [],
   "source": [
    "print(l1[1:5])"
   ]
  },
  {
   "cell_type": "code",
   "execution_count": null,
   "id": "ee7d7e30",
   "metadata": {},
   "outputs": [],
   "source": [
    "print(l1[0:5])"
   ]
  },
  {
   "cell_type": "code",
   "execution_count": null,
   "id": "1eb45f86",
   "metadata": {},
   "outputs": [],
   "source": [
    "l1 = []"
   ]
  },
  {
   "cell_type": "code",
   "execution_count": null,
   "id": "02fd4d77",
   "metadata": {},
   "outputs": [],
   "source": [
    "n = int(input(\"Enter the total number of elements: \"))\n",
    "for i in range(n):\n",
    "    print(i)"
   ]
  },
  {
   "cell_type": "code",
   "execution_count": null,
   "id": "2b265899",
   "metadata": {},
   "outputs": [],
   "source": [
    "n = int(input(\"Enter the total number of elements: \")) # 5\n",
    "for i in range(n): #5    0 1 2 3 4\n",
    "    num = int(input(\"Enter the number: \"))   #22 33 44 55 22\n",
    "    l1.append(num)\n",
    "print(l1)\n",
    "    "
   ]
  },
  {
   "cell_type": "code",
   "execution_count": 2,
   "id": "7e77d1f3",
   "metadata": {},
   "outputs": [
    {
     "name": "stdout",
     "output_type": "stream",
     "text": [
      "Enter the total number of elements: 5\n",
      "Enter the number: 22\n",
      "list contains [22]\n",
      "Enter the number: 33\n",
      "list contains [22, 33]\n",
      "Enter the number: 55\n",
      "list contains [22, 33, 55]\n",
      "Enter the number: 22\n",
      "list contains [22, 33, 55, 22]\n",
      "Enter the number: 2\n",
      "list contains [22, 33, 55, 22, 2]\n",
      "[22, 33, 55, 22, 2]\n"
     ]
    }
   ],
   "source": [
    "l1 = []\n",
    "n = int(input(\"Enter the total number of elements: \")) # 5\n",
    "for i in range(n): #5    0 1 2 3 4\n",
    "    num = int(input(\"Enter the number: \"))   #22 33 44 55 22\n",
    "    l1.append(num)\n",
    "    print(f\"list contains {l1}\")\n",
    "print(l1)\n",
    "    "
   ]
  },
  {
   "cell_type": "code",
   "execution_count": 4,
   "id": "60f6f376",
   "metadata": {},
   "outputs": [
    {
     "name": "stdout",
     "output_type": "stream",
     "text": [
      "Enter the total number of students: 3\n",
      "Enter the name: ram\n",
      "list contains ['ram']\n",
      "Enter the name: shyam\n",
      "list contains ['ram', 'shyam']\n",
      "Enter the name: hari\n",
      "list contains ['ram', 'shyam', 'hari']\n",
      "['ram', 'shyam', 'hari']\n"
     ]
    }
   ],
   "source": [
    "l1 = []\n",
    "n = int(input(\"Enter the total number of students: \")) # 5\n",
    "for i in range(n): #5    \n",
    "    name = input(\"Enter the name: \")  \n",
    "    l1.append(name)\n",
    "    print(f\"list contains {l1}\")\n",
    "print(l1)\n",
    "    "
   ]
  },
  {
   "cell_type": "code",
   "execution_count": 5,
   "id": "84137a57",
   "metadata": {},
   "outputs": [
    {
     "data": {
      "text/plain": [
       "['ram', 'shyam', 'hari']"
      ]
     },
     "execution_count": 5,
     "metadata": {},
     "output_type": "execute_result"
    }
   ],
   "source": [
    "l1"
   ]
  },
  {
   "cell_type": "code",
   "execution_count": 12,
   "id": "de2a5fb3",
   "metadata": {},
   "outputs": [
    {
     "name": "stdout",
     "output_type": "stream",
     "text": [
      "[2, 34]\n",
      "hari\n"
     ]
    },
    {
     "data": {
      "text/plain": [
       "['ram', 'shyam', 'hari', [2, 34], [2, 34], [2, 34]]"
      ]
     },
     "execution_count": 12,
     "metadata": {},
     "output_type": "execute_result"
    }
   ],
   "source": [
    "print(l1[-1])\n",
    "print(l1[2])\n",
    "l1.append([2,34])\n",
    "l1"
   ]
  },
  {
   "cell_type": "code",
   "execution_count": 14,
   "id": "9ddb9518",
   "metadata": {},
   "outputs": [
    {
     "name": "stdout",
     "output_type": "stream",
     "text": [
      "{'name': 'ram', 'age': 22, 'mark': 77, 'address': ['ktm', 'brt', 'pkr']}\n",
      "<class 'dict'>\n"
     ]
    }
   ],
   "source": [
    "detail={\n",
    "    'name':'ram',\n",
    "    'age':22,\n",
    "    'mark':77,\n",
    "    'address':['ktm','brt','pkr']\n",
    "}\n",
    "print(detail)\n",
    "print(type(detail))"
   ]
  },
  {
   "cell_type": "code",
   "execution_count": 16,
   "id": "bb21908c",
   "metadata": {},
   "outputs": [
    {
     "name": "stdout",
     "output_type": "stream",
     "text": [
      "dict_keys(['name', 'age', 'mark', 'address'])\n"
     ]
    }
   ],
   "source": [
    "print(detail.keys())"
   ]
  },
  {
   "cell_type": "code",
   "execution_count": 17,
   "id": "70b7b4be",
   "metadata": {},
   "outputs": [
    {
     "name": "stdout",
     "output_type": "stream",
     "text": [
      "dict_values(['ram', 22, 77, ['ktm', 'brt', 'pkr']])\n"
     ]
    }
   ],
   "source": [
    "print(detail.values())"
   ]
  },
  {
   "cell_type": "code",
   "execution_count": 18,
   "id": "91c18799",
   "metadata": {},
   "outputs": [
    {
     "name": "stdout",
     "output_type": "stream",
     "text": [
      "dict_items([('name', 'ram'), ('age', 22), ('mark', 77), ('address', ['ktm', 'brt', 'pkr'])])\n"
     ]
    }
   ],
   "source": [
    "print(detail.items())"
   ]
  },
  {
   "cell_type": "code",
   "execution_count": 19,
   "id": "3ca09561",
   "metadata": {},
   "outputs": [
    {
     "name": "stdout",
     "output_type": "stream",
     "text": [
      "['ktm', 'brt', 'pkr']\n"
     ]
    }
   ],
   "source": [
    "print(detail['address'])"
   ]
  },
  {
   "cell_type": "code",
   "execution_count": 20,
   "id": "5453ff34",
   "metadata": {},
   "outputs": [
    {
     "name": "stdout",
     "output_type": "stream",
     "text": [
      "pkr\n"
     ]
    }
   ],
   "source": [
    "print(detail['address'][2])"
   ]
  },
  {
   "cell_type": "code",
   "execution_count": 23,
   "id": "bfb8f5eb",
   "metadata": {},
   "outputs": [
    {
     "name": "stdout",
     "output_type": "stream",
     "text": [
      "Enter the password roshan123\n",
      "Strong password\n"
     ]
    }
   ],
   "source": [
    "pwrd = input(\"Enter the password \")\n",
    "l = len(pwrd)\n",
    "if l >= 8:\n",
    "    print(\"Strong password\")\n",
    "else:\n",
    "    print(\"Weak password\")"
   ]
  },
  {
   "cell_type": "code",
   "execution_count": 25,
   "id": "defb0c7d",
   "metadata": {},
   "outputs": [
    {
     "name": "stdout",
     "output_type": "stream",
     "text": [
      "Enter the password rsn12\n",
      "Weak password\n"
     ]
    }
   ],
   "source": [
    "try:\n",
    "    pwrd = input(\"Enter the password \")\n",
    "    l = len(pwrd)\n",
    "    if l>= 8:\n",
    "        print(\"Strong password\")\n",
    "    else:\n",
    "        raise Exception(\"Weak password\")\n",
    "except Exception as ex:\n",
    "    print(ex)"
   ]
  },
  {
   "cell_type": "code",
   "execution_count": 27,
   "id": "809248b5",
   "metadata": {},
   "outputs": [
    {
     "ename": "ZeroDivisionError",
     "evalue": "division by zero",
     "output_type": "error",
     "traceback": [
      "\u001b[1;31m---------------------------------------------------------------------------\u001b[0m",
      "\u001b[1;31mZeroDivisionError\u001b[0m                         Traceback (most recent call last)",
      "Input \u001b[1;32mIn [27]\u001b[0m, in \u001b[0;36m<cell line: 5>\u001b[1;34m()\u001b[0m\n\u001b[0;32m      1\u001b[0m \u001b[38;5;66;03m# try:\u001b[39;00m\n\u001b[0;32m      2\u001b[0m \u001b[38;5;66;03m#     22/0\u001b[39;00m\n\u001b[0;32m      3\u001b[0m \u001b[38;5;66;03m# except:\u001b[39;00m\n\u001b[0;32m      4\u001b[0m \u001b[38;5;66;03m#     print(\"div by zero\")\u001b[39;00m\n\u001b[1;32m----> 5\u001b[0m \u001b[38;5;241;43m22\u001b[39;49m\u001b[38;5;241;43m/\u001b[39;49m\u001b[38;5;241;43m0\u001b[39;49m\n",
      "\u001b[1;31mZeroDivisionError\u001b[0m: division by zero"
     ]
    }
   ],
   "source": [
    "# try:\n",
    "#     22/0\n",
    "# except:\n",
    "#     print(\"div by zero\")\n",
    "22/0"
   ]
  },
  {
   "cell_type": "code",
   "execution_count": 28,
   "id": "7eb5bf48",
   "metadata": {},
   "outputs": [
    {
     "name": "stdout",
     "output_type": "stream",
     "text": [
      "1\n"
     ]
    }
   ],
   "source": [
    "l1 = [1, 5, 4]\n",
    "print(l1[0])"
   ]
  },
  {
   "cell_type": "code",
   "execution_count": 29,
   "id": "241e7da2",
   "metadata": {},
   "outputs": [
    {
     "ename": "IndexError",
     "evalue": "list index out of range",
     "output_type": "error",
     "traceback": [
      "\u001b[1;31m---------------------------------------------------------------------------\u001b[0m",
      "\u001b[1;31mIndexError\u001b[0m                                Traceback (most recent call last)",
      "Input \u001b[1;32mIn [29]\u001b[0m, in \u001b[0;36m<cell line: 1>\u001b[1;34m()\u001b[0m\n\u001b[1;32m----> 1\u001b[0m \u001b[38;5;28mprint\u001b[39m(\u001b[43ml1\u001b[49m\u001b[43m[\u001b[49m\u001b[38;5;241;43m5\u001b[39;49m\u001b[43m]\u001b[49m)\n",
      "\u001b[1;31mIndexError\u001b[0m: list index out of range"
     ]
    }
   ],
   "source": [
    "print(l1[5])"
   ]
  },
  {
   "cell_type": "code",
   "execution_count": 41,
   "id": "51872cb3",
   "metadata": {},
   "outputs": [
    {
     "name": "stdout",
     "output_type": "stream",
     "text": [
      "Enter the index to test5\n",
      "list index out of range\n",
      "This is friday session\n",
      "Enter the index to test7\n",
      "list index out of range\n",
      "This is friday session\n",
      "Enter the index to test2\n",
      "4\n",
      "This is inside else\n",
      "This is friday session\n"
     ]
    }
   ],
   "source": [
    "while True:\n",
    "    try:\n",
    "        n = int(input(\"Enter the index to test\"))\n",
    "        print(l1[n])\n",
    "    except Exception as ex:\n",
    "        print(ex)\n",
    "        continue\n",
    "    else:\n",
    "        print(\"This is inside else\")\n",
    "        break\n",
    "    finally:\n",
    "        print(\"This is friday session\")"
   ]
  },
  {
   "cell_type": "code",
   "execution_count": 47,
   "id": "e87db950",
   "metadata": {},
   "outputs": [
    {
     "name": "stdout",
     "output_type": "stream",
     "text": [
      "Enter the password········\n",
      "test\n",
      "weak pwd\n"
     ]
    }
   ],
   "source": [
    "import getpass\n",
    "pwrd = getpass.getpass(\"Enter the password\")\n",
    "print(pwrd)\n",
    "l = len(pwrd)\n",
    "if l >= 8:\n",
    "    print('strong pwd')\n",
    "else:\n",
    "    print('weak pwd')"
   ]
  },
  {
   "cell_type": "code",
   "execution_count": null,
   "id": "4bb82be8",
   "metadata": {},
   "outputs": [],
   "source": []
  }
 ],
 "metadata": {
  "kernelspec": {
   "display_name": "Python 3 (ipykernel)",
   "language": "python",
   "name": "python3"
  },
  "language_info": {
   "codemirror_mode": {
    "name": "ipython",
    "version": 3
   },
   "file_extension": ".py",
   "mimetype": "text/x-python",
   "name": "python",
   "nbconvert_exporter": "python",
   "pygments_lexer": "ipython3",
   "version": "3.9.12"
  }
 },
 "nbformat": 4,
 "nbformat_minor": 5
}
