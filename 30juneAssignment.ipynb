{
 "cells": [
  {
   "cell_type": "code",
   "execution_count": 2,
   "id": "8f0d3630",
   "metadata": {},
   "outputs": [
    {
     "name": "stdout",
     "output_type": "stream",
     "text": [
      "Enter the number of the student: 2\n",
      "Entrer the name of the students: mk\n",
      "Enter the age of the student: 22\n",
      "Enter the address of the student: kpn\n",
      "Enter the mark of the student: 88\n",
      "Entrer the name of the students: avishek\n",
      "Enter the age of the student: 22\n",
      "Enter the address of the student: kpn\n",
      "Enter the mark of the student: 77\n",
      "[['mk', 22, 'kpn', 88.0], ['avishek', 22, 'kpn', 77.0]]\n"
     ]
    }
   ],
   "source": [
    "student_detail = []\n",
    "def get_details(num1):\n",
    "    for i in range(num1):\n",
    "        new_std = []\n",
    "        name = input(\"Entrer the name of the students: \")\n",
    "        age = int(input(\"Enter the age of the student: \"))\n",
    "        address = input(\"Enter the address of the student: \")\n",
    "        mark = float(input(\"Enter the mark of the student: \"))\n",
    "        new_std.append(name)\n",
    "        new_std.append(age)\n",
    "        new_std.append(address)\n",
    "        new_std.append(mark)\n",
    "        list_as_string = \",\".join(str(item) for item in new_std)\n",
    "        file = open(\"std2.csv\",'a')\n",
    "        file.write(list_as_string)\n",
    "        file.write(\"\\n\")\n",
    "        file.close()\n",
    "        student_detail.append(new_std)\n",
    "    print(student_detail)\n",
    "j = 1\n",
    "while j <= 5:\n",
    "    try:\n",
    "        num = int(input(\"Enter the number of the student: \"))\n",
    "        get_details(num)\n",
    "        break\n",
    "\n",
    "    except Exception as ex:\n",
    "        j+=1\n",
    "        print(ex.__doc__)\n",
    "        if j == 5:\n",
    "            print(\"sorry your session expired\")"
   ]
  },
  {
   "cell_type": "code",
   "execution_count": 3,
   "id": "0abbc380",
   "metadata": {},
   "outputs": [],
   "source": [
    "import pandas as pd"
   ]
  },
  {
   "cell_type": "code",
   "execution_count": 13,
   "id": "793d11e1",
   "metadata": {},
   "outputs": [
    {
     "data": {
      "text/html": [
       "<div>\n",
       "<style scoped>\n",
       "    .dataframe tbody tr th:only-of-type {\n",
       "        vertical-align: middle;\n",
       "    }\n",
       "\n",
       "    .dataframe tbody tr th {\n",
       "        vertical-align: top;\n",
       "    }\n",
       "\n",
       "    .dataframe thead th {\n",
       "        text-align: right;\n",
       "    }\n",
       "</style>\n",
       "<table border=\"1\" class=\"dataframe\">\n",
       "  <thead>\n",
       "    <tr style=\"text-align: right;\">\n",
       "      <th></th>\n",
       "      <th>name</th>\n",
       "      <th>age</th>\n",
       "      <th>address</th>\n",
       "      <th>mark</th>\n",
       "    </tr>\n",
       "  </thead>\n",
       "  <tbody>\n",
       "    <tr>\n",
       "      <th>0</th>\n",
       "      <td>mk</td>\n",
       "      <td>25</td>\n",
       "      <td>kpn</td>\n",
       "      <td>88.0</td>\n",
       "    </tr>\n",
       "    <tr>\n",
       "      <th>1</th>\n",
       "      <td>avishek</td>\n",
       "      <td>22</td>\n",
       "      <td>kpn</td>\n",
       "      <td>77.0</td>\n",
       "    </tr>\n",
       "  </tbody>\n",
       "</table>\n",
       "</div>"
      ],
      "text/plain": [
       "      name  age address  mark\n",
       "0       mk   25     kpn  88.0\n",
       "1  avishek   22     kpn  77.0"
      ]
     },
     "execution_count": 13,
     "metadata": {},
     "output_type": "execute_result"
    }
   ],
   "source": [
    "df = pd.read_csv(\"std2.csv\")\n",
    "df"
   ]
  },
  {
   "cell_type": "code",
   "execution_count": 12,
   "id": "2b684e0a",
   "metadata": {},
   "outputs": [
    {
     "data": {
      "text/plain": [
       "0         mk\n",
       "1    avishek\n",
       "Name: name, dtype: object"
      ]
     },
     "execution_count": 12,
     "metadata": {},
     "output_type": "execute_result"
    }
   ],
   "source": [
    "df.loc[:,\"name\"]"
   ]
  },
  {
   "cell_type": "code",
   "execution_count": 17,
   "id": "b511c159",
   "metadata": {},
   "outputs": [
    {
     "data": {
      "text/html": [
       "<div>\n",
       "<style scoped>\n",
       "    .dataframe tbody tr th:only-of-type {\n",
       "        vertical-align: middle;\n",
       "    }\n",
       "\n",
       "    .dataframe tbody tr th {\n",
       "        vertical-align: top;\n",
       "    }\n",
       "\n",
       "    .dataframe thead th {\n",
       "        text-align: right;\n",
       "    }\n",
       "</style>\n",
       "<table border=\"1\" class=\"dataframe\">\n",
       "  <thead>\n",
       "    <tr style=\"text-align: right;\">\n",
       "      <th></th>\n",
       "      <th>name</th>\n",
       "      <th>age</th>\n",
       "      <th>address</th>\n",
       "      <th>mark</th>\n",
       "    </tr>\n",
       "  </thead>\n",
       "  <tbody>\n",
       "    <tr>\n",
       "      <th>0</th>\n",
       "      <td>mk</td>\n",
       "      <td>25</td>\n",
       "      <td>kpn</td>\n",
       "      <td>88.0</td>\n",
       "    </tr>\n",
       "  </tbody>\n",
       "</table>\n",
       "</div>"
      ],
      "text/plain": [
       "  name  age address  mark\n",
       "0   mk   25     kpn  88.0"
      ]
     },
     "execution_count": 17,
     "metadata": {},
     "output_type": "execute_result"
    }
   ],
   "source": [
    "df[df[\"age\"]>23]"
   ]
  },
  {
   "cell_type": "code",
   "execution_count": null,
   "id": "aaeeb8bb",
   "metadata": {},
   "outputs": [],
   "source": []
  }
 ],
 "metadata": {
  "kernelspec": {
   "display_name": "Python 3 (ipykernel)",
   "language": "python",
   "name": "python3"
  },
  "language_info": {
   "codemirror_mode": {
    "name": "ipython",
    "version": 3
   },
   "file_extension": ".py",
   "mimetype": "text/x-python",
   "name": "python",
   "nbconvert_exporter": "python",
   "pygments_lexer": "ipython3",
   "version": "3.10.9"
  }
 },
 "nbformat": 4,
 "nbformat_minor": 5
}
