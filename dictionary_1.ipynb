{
 "cells": [
  {
   "cell_type": "code",
   "execution_count": 1,
   "id": "c8336d75",
   "metadata": {},
   "outputs": [
    {
     "name": "stdout",
     "output_type": "stream",
     "text": [
      "<class 'dict'>\n"
     ]
    }
   ],
   "source": [
    "student_detail={}\n",
    "print(type(student_detail))"
   ]
  },
  {
   "cell_type": "code",
   "execution_count": 3,
   "id": "db43123d",
   "metadata": {},
   "outputs": [
    {
     "name": "stdout",
     "output_type": "stream",
     "text": [
      "<class 'dict'>\n"
     ]
    }
   ],
   "source": [
    "student = dict()\n",
    "print(type(student))"
   ]
  },
  {
   "cell_type": "code",
   "execution_count": 5,
   "id": "59fb695f",
   "metadata": {},
   "outputs": [
    {
     "name": "stdout",
     "output_type": "stream",
     "text": [
      "{'name': 'ram', 'age': 22, 'mark': 77.5, 'address': ['pokhara', 'kathmandu']}\n"
     ]
    }
   ],
   "source": [
    "student={\n",
    "    'name':'ram',\n",
    "    'age':22,\n",
    "    'mark':77.5,\n",
    "    'address':['pokhara','kathmandu']\n",
    "}\n",
    "print(student)"
   ]
  },
  {
   "cell_type": "code",
   "execution_count": 7,
   "id": "0dcfbbeb",
   "metadata": {},
   "outputs": [
    {
     "name": "stdout",
     "output_type": "stream",
     "text": [
      "ram\n",
      "['pokhara', 'kathmandu']\n"
     ]
    }
   ],
   "source": [
    "print(student['name'])\n",
    "print(student['address'])"
   ]
  },
  {
   "cell_type": "code",
   "execution_count": 9,
   "id": "3d91ad58",
   "metadata": {},
   "outputs": [
    {
     "name": "stdout",
     "output_type": "stream",
     "text": [
      "dict_keys(['name', 'age', 'mark', 'address'])\n"
     ]
    }
   ],
   "source": [
    "print(student.keys())"
   ]
  },
  {
   "cell_type": "code",
   "execution_count": 10,
   "id": "a4d6e4ef",
   "metadata": {},
   "outputs": [
    {
     "name": "stdout",
     "output_type": "stream",
     "text": [
      "dict_values(['ram', 22, 77.5, ['pokhara', 'kathmandu']])\n"
     ]
    }
   ],
   "source": [
    "print(student.values())"
   ]
  },
  {
   "cell_type": "code",
   "execution_count": null,
   "id": "e02c7adc",
   "metadata": {},
   "outputs": [],
   "source": []
  }
 ],
 "metadata": {
  "kernelspec": {
   "display_name": "Python 3 (ipykernel)",
   "language": "python",
   "name": "python3"
  },
  "language_info": {
   "codemirror_mode": {
    "name": "ipython",
    "version": 3
   },
   "file_extension": ".py",
   "mimetype": "text/x-python",
   "name": "python",
   "nbconvert_exporter": "python",
   "pygments_lexer": "ipython3",
   "version": "3.9.12"
  }
 },
 "nbformat": 4,
 "nbformat_minor": 5
}
