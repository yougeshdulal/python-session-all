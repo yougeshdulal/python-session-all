{
 "cells": [
  {
   "cell_type": "code",
   "execution_count": 1,
   "id": "f2943362",
   "metadata": {},
   "outputs": [
    {
     "name": "stdout",
     "output_type": "stream",
     "text": [
      "{'name': 'ram', 'age': 22, 'mark': 77}\n"
     ]
    }
   ],
   "source": [
    "student={\n",
    "    'name':'ram',\n",
    "    'age':22,\n",
    "    'mark':77\n",
    "}\n",
    "print(student)"
   ]
  },
  {
   "cell_type": "code",
   "execution_count": 3,
   "id": "9128c1db",
   "metadata": {},
   "outputs": [
    {
     "name": "stdout",
     "output_type": "stream",
     "text": [
      "22,33\n"
     ]
    }
   ],
   "source": [
    "def fun1(a,b):\n",
    "    print(f\"{a},{b}\")\n",
    "\n",
    "fun1(22,33)\n",
    "          \n",
    "          \n",
    "          "
   ]
  },
  {
   "cell_type": "code",
   "execution_count": 8,
   "id": "a32286fe",
   "metadata": {},
   "outputs": [
    {
     "name": "stdout",
     "output_type": "stream",
     "text": [
      "<class 'tuple'>\n",
      "Sum is (32, 53, 85)\n",
      "Sum of 32 and 53 is 85\n"
     ]
    }
   ],
   "source": [
    "def fun1(a,b):\n",
    "    a+= 10\n",
    "    b+= 20\n",
    "    c = a + b\n",
    "    return a,b,c\n",
    "\n",
    "res = fun1(22,33)\n",
    "n1,n2,n3 = res\n",
    "print(type(res))\n",
    "print(f\"Sum is {res}\")\n",
    "print(f\"Sum of {n1} and {n2} is {n3}\")\n",
    "          \n",
    "          \n",
    "          "
   ]
  },
  {
   "cell_type": "code",
   "execution_count": 9,
   "id": "473dc2e8",
   "metadata": {},
   "outputs": [
    {
     "name": "stdout",
     "output_type": "stream",
     "text": [
      "22 33\n"
     ]
    }
   ],
   "source": [
    "def func1(a,b, c =None):\n",
    "    print(a,b)\n",
    "\n",
    "func1(22, 33)\n"
   ]
  },
  {
   "cell_type": "code",
   "execution_count": 16,
   "id": "cf6058e1",
   "metadata": {},
   "outputs": [],
   "source": [
    "# func1(22, 33, 44)\n",
    "def func1(*args):\n",
    "    print(args)\n",
    "    for i in args:\n",
    "        print(i)\n",
    "    \n"
   ]
  },
  {
   "cell_type": "code",
   "execution_count": 18,
   "id": "05496758",
   "metadata": {},
   "outputs": [
    {
     "name": "stdout",
     "output_type": "stream",
     "text": [
      "(22, 33)\n",
      "22\n",
      "33\n"
     ]
    }
   ],
   "source": [
    "func1(22, 33)\n",
    "# func1(22, 33, 44)\n",
    "# func1(2, 3, 4, 5, 6)"
   ]
  },
  {
   "cell_type": "code",
   "execution_count": 20,
   "id": "61d1e7ba",
   "metadata": {},
   "outputs": [
    {
     "name": "stdout",
     "output_type": "stream",
     "text": [
      "{'name': 'ram', 'age': 22, 'mark': 77.5}\n",
      "name ram\n",
      "age 22\n",
      "mark 77.5\n"
     ]
    }
   ],
   "source": [
    "#kwargs keywordeed arguments\n",
    "def func1(**kwargs):\n",
    "    print(kwargs)\n",
    "    for keys, values in kwargs.items():\n",
    "        print(f\"{keys} {values}\")\n",
    "\n",
    "func1(name = 'ram', age = 22, mark = 77.5)\n",
    "\n"
   ]
  },
  {
   "cell_type": "code",
   "execution_count": 28,
   "id": "172718d0",
   "metadata": {},
   "outputs": [
    {
     "name": "stdout",
     "output_type": "stream",
     "text": [
      "{'science_student': {'name': 'ram', 'age': 22}, 'arts_student': {'name': 'shyam', 'age': 25}, 'mgmt_student': {'name': 'hari', 'age': 27}}\n"
     ]
    }
   ],
   "source": [
    "student={\n",
    "#     'key':'values'\n",
    "    'science_student':{\n",
    "        'name':'ram',\n",
    "        'age':22\n",
    "    },\n",
    "    'arts_student':{\n",
    "        'name':'shyam',\n",
    "        'age':25\n",
    "    },\n",
    "    'mgmt_student':{\n",
    "        'name':'hari',\n",
    "        'age':27\n",
    "#         'age':28\n",
    "    }\n",
    "}\n",
    "print(student)"
   ]
  },
  {
   "cell_type": "code",
   "execution_count": 22,
   "id": "bd40913a",
   "metadata": {},
   "outputs": [
    {
     "name": "stdout",
     "output_type": "stream",
     "text": [
      "{'name': 'ram', 'age': 22}\n"
     ]
    }
   ],
   "source": [
    "print(student['science_student'])"
   ]
  },
  {
   "cell_type": "code",
   "execution_count": 23,
   "id": "8a23e8ff",
   "metadata": {},
   "outputs": [
    {
     "name": "stdout",
     "output_type": "stream",
     "text": [
      "{'name': 'hari', 'age': 27}\n"
     ]
    }
   ],
   "source": [
    "print(student['mgmt_student'])"
   ]
  },
  {
   "cell_type": "code",
   "execution_count": 24,
   "id": "15d6f81c",
   "metadata": {},
   "outputs": [
    {
     "name": "stdout",
     "output_type": "stream",
     "text": [
      "hari\n"
     ]
    }
   ],
   "source": [
    "print(student['mgmt_student']['name'])"
   ]
  },
  {
   "cell_type": "code",
   "execution_count": 25,
   "id": "eaad0737",
   "metadata": {},
   "outputs": [],
   "source": [
    "student['mgmt_student']['address']=['ktm','brt']"
   ]
  },
  {
   "cell_type": "code",
   "execution_count": 26,
   "id": "e408265b",
   "metadata": {},
   "outputs": [
    {
     "data": {
      "text/plain": [
       "{'science_student': {'name': 'ram', 'age': 22},\n",
       " 'arts_student': {'name': 'shyam', 'age': 25},\n",
       " 'mgmt_student': {'name': 'hari', 'age': 27, 'address': ['ktm', 'brt']}}"
      ]
     },
     "execution_count": 26,
     "metadata": {},
     "output_type": "execute_result"
    }
   ],
   "source": [
    "student"
   ]
  },
  {
   "cell_type": "code",
   "execution_count": 29,
   "id": "2c30f1d8",
   "metadata": {},
   "outputs": [
    {
     "name": "stdout",
     "output_type": "stream",
     "text": [
      "{0: 'Math', 1: 'science', 2: 'english'}\n"
     ]
    }
   ],
   "source": [
    "subject={\n",
    "    0: 'Math',\n",
    "    1: 'science',\n",
    "    2: 'english'\n",
    "}\n",
    "print(subject)"
   ]
  },
  {
   "cell_type": "code",
   "execution_count": 30,
   "id": "50a06a7b",
   "metadata": {},
   "outputs": [
    {
     "name": "stdout",
     "output_type": "stream",
     "text": [
      "dict_keys([0, 1, 2])\n"
     ]
    }
   ],
   "source": [
    "print(subject.keys())"
   ]
  },
  {
   "cell_type": "code",
   "execution_count": 45,
   "id": "7d39adde",
   "metadata": {},
   "outputs": [
    {
     "data": {
      "text/plain": [
       "['pkr', 'brt', 'dharan', 'janakpur', 'ram', 'shyam', 'hari', 'sita', 'nita']"
      ]
     },
     "execution_count": 45,
     "metadata": {},
     "output_type": "execute_result"
    }
   ],
   "source": [
    "list1 = ['pkr', 'brt', 'dharan', 'janakpur']\n",
    "list2 = ['ram','shyam','hari','sita','nita']\n",
    "list3 = list1 + list2\n",
    "list3"
   ]
  },
  {
   "cell_type": "code",
   "execution_count": 47,
   "id": "4306f984",
   "metadata": {},
   "outputs": [
    {
     "name": "stdout",
     "output_type": "stream",
     "text": [
      "{'pkr': 'ram', 'brt': 'shyam', 'dharan': 'hari', 'janakpur': 'sita'}\n"
     ]
    }
   ],
   "source": [
    "a = zip(list1,list2)\n",
    "n_data = dict(a)\n",
    "print(n_data)"
   ]
  },
  {
   "cell_type": "code",
   "execution_count": 44,
   "id": "ff0307db",
   "metadata": {},
   "outputs": [
    {
     "name": "stdout",
     "output_type": "stream",
     "text": [
      "{'pkr': 'ram', 'brt': 'shyam', 'dharan': 'hari', 'janakpur': 'sita'}\n"
     ]
    }
   ],
   "source": [
    "b = dict(zip(list1,list2))\n",
    "print(b)"
   ]
  },
  {
   "cell_type": "code",
   "execution_count": 54,
   "id": "63e1fb06",
   "metadata": {},
   "outputs": [
    {
     "name": "stdout",
     "output_type": "stream",
     "text": [
      "Enter the word to check: yam\n",
      "yam is matched\n"
     ]
    }
   ],
   "source": [
    "# o_string = 'this is test content to check'\n",
    "o_string = 'ram shyam hari sita'\n",
    "\n",
    "u_check = input(\"Enter the word to check: \")\n",
    "# this test Test is \n",
    "# print(o_string)\n",
    "if u_check in o_string:\n",
    "    print(f\"{u_check} is matched\")\n",
    "else:\n",
    "    print(f\"{u_check} is not matched\")\n",
    "\n"
   ]
  },
  {
   "cell_type": "code",
   "execution_count": 56,
   "id": "30d72c3e",
   "metadata": {},
   "outputs": [
    {
     "name": "stdout",
     "output_type": "stream",
     "text": [
      "Enter the word to check: test\n",
      "test is matched\n"
     ]
    }
   ],
   "source": [
    "o_string = 'this is test content to check'\n",
    "# o_string = 'ram shyam hari sita'\n",
    "u_check = input(\"Enter the word to check: \")\n",
    "# this test Test is \n",
    "# print(o_string)\n",
    "if u_check in o_string:\n",
    "    print(f\"{u_check} is matched\")\n",
    "else:\n",
    "    print(f\"{u_check} is not matched\")\n",
    "\n"
   ]
  },
  {
   "cell_type": "code",
   "execution_count": 57,
   "id": "afd023d2",
   "metadata": {},
   "outputs": [
    {
     "name": "stdout",
     "output_type": "stream",
     "text": [
      "t\n",
      "h\n",
      "i\n",
      "s\n",
      " \n",
      "i\n",
      "s\n",
      " \n",
      "t\n",
      "e\n",
      "s\n",
      "t\n",
      " \n",
      "c\n",
      "o\n",
      "n\n",
      "t\n",
      "e\n",
      "n\n",
      "t\n",
      " \n",
      "t\n",
      "o\n",
      " \n",
      "c\n",
      "h\n",
      "e\n",
      "c\n",
      "k\n"
     ]
    }
   ],
   "source": [
    "for i in o_string: #this is test contents to check\n",
    "    print(i)"
   ]
  },
  {
   "cell_type": "code",
   "execution_count": 58,
   "id": "bfa203af",
   "metadata": {},
   "outputs": [
    {
     "name": "stdout",
     "output_type": "stream",
     "text": [
      "<class 'str'>\n"
     ]
    }
   ],
   "source": [
    "o_string = 'this is test content to check'\n",
    "print(type(o_string))"
   ]
  },
  {
   "cell_type": "code",
   "execution_count": 59,
   "id": "e588acd1",
   "metadata": {},
   "outputs": [
    {
     "name": "stdout",
     "output_type": "stream",
     "text": [
      "<class 'list'>\n"
     ]
    }
   ],
   "source": [
    "o_string = o_string.split()\n",
    "print(type(o_string))"
   ]
  },
  {
   "cell_type": "code",
   "execution_count": 60,
   "id": "39dc511f",
   "metadata": {},
   "outputs": [
    {
     "name": "stdout",
     "output_type": "stream",
     "text": [
      "this\n",
      "is\n",
      "test\n",
      "content\n",
      "to\n",
      "check\n"
     ]
    }
   ],
   "source": [
    "for i in o_string:\n",
    "    print(i)"
   ]
  },
  {
   "cell_type": "code",
   "execution_count": 62,
   "id": "620d1c9b",
   "metadata": {},
   "outputs": [
    {
     "name": "stdout",
     "output_type": "stream",
     "text": [
      "Enter the word to check: tes\n",
      "tes is not matched\n"
     ]
    }
   ],
   "source": [
    "o_string = 'this is test content to check'\n",
    "# o_string = 'ram shyam hari sita'\n",
    "u_check = input(\"Enter the word to check: \")\n",
    "# this test Test is \n",
    "# print(o_string)\n",
    "o_string = o_string.split()\n",
    "if u_check in o_string:\n",
    "    print(f\"{u_check} is matched\")\n",
    "else:\n",
    "    print(f\"{u_check} is not matched\")\n",
    "\n"
   ]
  },
  {
   "cell_type": "code",
   "execution_count": 63,
   "id": "4e1a5f5c",
   "metadata": {},
   "outputs": [
    {
     "name": "stdout",
     "output_type": "stream",
     "text": [
      "['ram,shyam,hari,sita']\n"
     ]
    }
   ],
   "source": [
    "name ='ram,shyam,hari,sita'\n",
    "name = name.split()\n",
    "print(name)"
   ]
  },
  {
   "cell_type": "code",
   "execution_count": 64,
   "id": "c3dfdc02",
   "metadata": {},
   "outputs": [
    {
     "name": "stdout",
     "output_type": "stream",
     "text": [
      "['ram', 'shyam', 'hari', 'sita']\n"
     ]
    }
   ],
   "source": [
    "name ='ram,shyam,hari,sita'\n",
    "name = name.split(',')\n",
    "print(name)"
   ]
  },
  {
   "cell_type": "code",
   "execution_count": null,
   "id": "23542812",
   "metadata": {},
   "outputs": [],
   "source": []
  }
 ],
 "metadata": {
  "kernelspec": {
   "display_name": "Python 3 (ipykernel)",
   "language": "python",
   "name": "python3"
  },
  "language_info": {
   "codemirror_mode": {
    "name": "ipython",
    "version": 3
   },
   "file_extension": ".py",
   "mimetype": "text/x-python",
   "name": "python",
   "nbconvert_exporter": "python",
   "pygments_lexer": "ipython3",
   "version": "3.9.12"
  }
 },
 "nbformat": 4,
 "nbformat_minor": 5
}
