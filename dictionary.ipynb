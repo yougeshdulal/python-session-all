{
 "cells": [
  {
   "cell_type": "code",
   "execution_count": 1,
   "id": "5bbe5c21",
   "metadata": {},
   "outputs": [
    {
     "name": "stdout",
     "output_type": "stream",
     "text": [
      "{'name': 'ram', 'age': 22, 'mark': 77.5, 'address': ['ktm', 'pkr']}\n"
     ]
    }
   ],
   "source": [
    "student={\n",
    "    'name': 'ram',\n",
    "    'age': 22,\n",
    "    'mark': 77.5,\n",
    "    'address': ['ktm','pkr']\n",
    "}\n",
    "print(student)"
   ]
  },
  {
   "cell_type": "code",
   "execution_count": 2,
   "id": "ed7d86b4",
   "metadata": {},
   "outputs": [
    {
     "name": "stdout",
     "output_type": "stream",
     "text": [
      "<class 'dict'>\n"
     ]
    }
   ],
   "source": [
    "print(type(student))"
   ]
  },
  {
   "cell_type": "code",
   "execution_count": 3,
   "id": "0cbd2a45",
   "metadata": {},
   "outputs": [
    {
     "name": "stdout",
     "output_type": "stream",
     "text": [
      "dict_keys(['name', 'age', 'mark', 'address'])\n"
     ]
    }
   ],
   "source": [
    "print(student.keys())"
   ]
  },
  {
   "cell_type": "code",
   "execution_count": 4,
   "id": "9074c2d7",
   "metadata": {},
   "outputs": [
    {
     "name": "stdout",
     "output_type": "stream",
     "text": [
      "dict_values(['ram', 22, 77.5, ['ktm', 'pkr']])\n"
     ]
    }
   ],
   "source": [
    "print(student.values())"
   ]
  },
  {
   "cell_type": "code",
   "execution_count": 5,
   "id": "da08bcb8",
   "metadata": {},
   "outputs": [
    {
     "name": "stdout",
     "output_type": "stream",
     "text": [
      "dict_items([('name', 'ram'), ('age', 22), ('mark', 77.5), ('address', ['ktm', 'pkr'])])\n"
     ]
    }
   ],
   "source": [
    "print(student.items())"
   ]
  },
  {
   "cell_type": "code",
   "execution_count": 6,
   "id": "4ad29068",
   "metadata": {},
   "outputs": [
    {
     "name": "stdout",
     "output_type": "stream",
     "text": [
      "name\n",
      "age\n",
      "mark\n",
      "address\n"
     ]
    }
   ],
   "source": [
    "for i in student:\n",
    "    print(i)"
   ]
  },
  {
   "cell_type": "code",
   "execution_count": 7,
   "id": "a1210f02",
   "metadata": {},
   "outputs": [
    {
     "name": "stdout",
     "output_type": "stream",
     "text": [
      "ram\n",
      "22\n",
      "77.5\n",
      "['ktm', 'pkr']\n"
     ]
    }
   ],
   "source": [
    "for i in student.values():\n",
    "    print(i)"
   ]
  },
  {
   "cell_type": "code",
   "execution_count": 8,
   "id": "b2c571fc",
   "metadata": {},
   "outputs": [
    {
     "name": "stdout",
     "output_type": "stream",
     "text": [
      "key is name and value is ram\n",
      "key is age and value is 22\n",
      "key is mark and value is 77.5\n",
      "key is address and value is ['ktm', 'pkr']\n"
     ]
    }
   ],
   "source": [
    "for keys,values in student.items():\n",
    "    print(f\"key is {keys} and value is {values}\")"
   ]
  },
  {
   "cell_type": "code",
   "execution_count": 9,
   "id": "edf822cf",
   "metadata": {},
   "outputs": [
    {
     "name": "stdout",
     "output_type": "stream",
     "text": [
      "ram\n"
     ]
    }
   ],
   "source": [
    "print(student['name'])"
   ]
  },
  {
   "cell_type": "code",
   "execution_count": 10,
   "id": "444e9ebe",
   "metadata": {},
   "outputs": [
    {
     "name": "stdout",
     "output_type": "stream",
     "text": [
      "{'name': 'shyam', 'age': 22, 'mark': 77.5, 'address': ['ktm', 'pkr']}\n"
     ]
    }
   ],
   "source": [
    "student['name'] = 'shyam'\n",
    "print(student)"
   ]
  },
  {
   "cell_type": "code",
   "execution_count": 11,
   "id": "d4084716",
   "metadata": {},
   "outputs": [
    {
     "name": "stdout",
     "output_type": "stream",
     "text": [
      "['ktm', 'pkr']\n"
     ]
    }
   ],
   "source": [
    "print(student['address'])"
   ]
  },
  {
   "cell_type": "code",
   "execution_count": 12,
   "id": "0f5f3972",
   "metadata": {},
   "outputs": [
    {
     "name": "stdout",
     "output_type": "stream",
     "text": [
      "ktm\n"
     ]
    }
   ],
   "source": [
    "print(student['address'][0])"
   ]
  },
  {
   "cell_type": "code",
   "execution_count": 14,
   "id": "1315c4d8",
   "metadata": {},
   "outputs": [
    {
     "name": "stdout",
     "output_type": "stream",
     "text": [
      "{'name': 'shyam', 'age': 22, 'mark': 77.5, 'address': ['ktm', 'Thailand', 'Thailand', 'pkr']}\n"
     ]
    }
   ],
   "source": [
    "student['address'].insert(2,'Thailand')\n",
    "print(student)"
   ]
  },
  {
   "cell_type": "code",
   "execution_count": 15,
   "id": "16037e91",
   "metadata": {},
   "outputs": [
    {
     "name": "stdout",
     "output_type": "stream",
     "text": [
      "{'name': 'shyam', 'age': 22, 'mark': 77.5, 'address': ['ktm', 'Thailand', 'Thailand']}\n"
     ]
    }
   ],
   "source": [
    "student['address'].pop()\n",
    "print(student)"
   ]
  },
  {
   "cell_type": "code",
   "execution_count": 16,
   "id": "272ccdd2",
   "metadata": {},
   "outputs": [
    {
     "name": "stdout",
     "output_type": "stream",
     "text": [
      "{'name': 'shyam', 'age': 22, 'mark': 77.5, 'address': ['Thailand', 'Thailand']}\n"
     ]
    }
   ],
   "source": [
    "student['address'].pop(0)\n",
    "print(student)"
   ]
  },
  {
   "cell_type": "code",
   "execution_count": 35,
   "id": "893a3a8a",
   "metadata": {},
   "outputs": [],
   "source": [
    "if 'Thailand' in student['address']:\n",
    "    print(\"Thailand is here\")\n",
    "    print(student['address'].count('Thailand'))\n",
    "    student['address'].append('Thailand')"
   ]
  },
  {
   "cell_type": "code",
   "execution_count": 36,
   "id": "f0b740df",
   "metadata": {},
   "outputs": [
    {
     "name": "stdout",
     "output_type": "stream",
     "text": [
      "{'name': 'shyam', 'age': 22, 'mark': 77.5, 'address': []}\n"
     ]
    }
   ],
   "source": [
    "if 'Thailand' in student['address']:\n",
    "    print(\"Thailand is here\")\n",
    "    print(student['address'].count('Thailand'))\n",
    "#     student['address'].remove('Thailand')    \n",
    "print(student)\n",
    "    "
   ]
  },
  {
   "cell_type": "code",
   "execution_count": 39,
   "id": "33888371",
   "metadata": {},
   "outputs": [
    {
     "name": "stdout",
     "output_type": "stream",
     "text": [
      "{'name': 'shyam', 'age': 22, 'mark': 77.5, 'address': ['Thailand', 'Thailand', 'Thailand']}\n"
     ]
    }
   ],
   "source": [
    "student['address'].insert(2,'Thailand')\n",
    "print(student)"
   ]
  },
  {
   "cell_type": "code",
   "execution_count": 59,
   "id": "caa3abb7",
   "metadata": {},
   "outputs": [
    {
     "name": "stdout",
     "output_type": "stream",
     "text": [
      "['Thailand', 'Thailand', 'Bali', 'Thailand', 'ktm']\n"
     ]
    }
   ],
   "source": [
    "l1 = ['Thailand', 'Thailand','Bali','Thailand','ktm']\n",
    "print(l1)"
   ]
  },
  {
   "cell_type": "code",
   "execution_count": 61,
   "id": "27dddae3",
   "metadata": {},
   "outputs": [],
   "source": [
    "ln = len(l1)"
   ]
  },
  {
   "cell_type": "code",
   "execution_count": 64,
   "id": "6fec3d1b",
   "metadata": {},
   "outputs": [
    {
     "name": "stdout",
     "output_type": "stream",
     "text": [
      "0\n",
      "1\n",
      "2\n",
      "3\n",
      "4\n",
      "['Thailand', 'Bali', 'ktm']\n"
     ]
    }
   ],
   "source": [
    "for i in range(ln):\n",
    "    print(i)\n",
    "#     if l1[i] == 'Thailand':\n",
    "#         del l1[i]\n",
    "print(l1)"
   ]
  },
  {
   "cell_type": "code",
   "execution_count": 76,
   "id": "d5a07c06",
   "metadata": {},
   "outputs": [
    {
     "name": "stdout",
     "output_type": "stream",
     "text": [
      "['Thailand', 'Thailand', 'Bali', 'Thailand', 'ktm']\n"
     ]
    }
   ],
   "source": [
    "l1 = ['Thailand', 'Thailand','Bali','Thailand','ktm']\n",
    "print(l1)"
   ]
  },
  {
   "cell_type": "code",
   "execution_count": 77,
   "id": "789797ad",
   "metadata": {},
   "outputs": [],
   "source": [
    "del l1[0:3]"
   ]
  },
  {
   "cell_type": "code",
   "execution_count": 78,
   "id": "6d2260ed",
   "metadata": {},
   "outputs": [
    {
     "name": "stdout",
     "output_type": "stream",
     "text": [
      "['Thailand', 'ktm']\n"
     ]
    }
   ],
   "source": [
    "print(l1)"
   ]
  },
  {
   "cell_type": "code",
   "execution_count": 81,
   "id": "496857a6",
   "metadata": {},
   "outputs": [
    {
     "name": "stdout",
     "output_type": "stream",
     "text": [
      "['Thailand', 'xyz', 'Thailand', 'Bali', 'Thailand', 'ktm']\n"
     ]
    }
   ],
   "source": [
    "l1 = ['Thailand','xyz', 'Thailand','Bali','Thailand','ktm']\n",
    "# l1.remove('Thailand')\n",
    "print(l1)"
   ]
  },
  {
   "cell_type": "code",
   "execution_count": 82,
   "id": "bcaac0e1",
   "metadata": {},
   "outputs": [
    {
     "name": "stdout",
     "output_type": "stream",
     "text": [
      "3\n"
     ]
    }
   ],
   "source": [
    "a = l1.count('Thailand')\n",
    "print(a)"
   ]
  },
  {
   "cell_type": "code",
   "execution_count": 84,
   "id": "1b276929",
   "metadata": {},
   "outputs": [
    {
     "name": "stdout",
     "output_type": "stream",
     "text": [
      "0 Thailand\n",
      "1 xyz\n",
      "2 Thailand\n",
      "3 Bali\n",
      "4 Thailand\n",
      "5 ktm\n"
     ]
    }
   ],
   "source": [
    "for item,index in enumerate(l1):\n",
    "    print(f\"{item} {index}\")"
   ]
  },
  {
   "cell_type": "code",
   "execution_count": 86,
   "id": "0f0a1ae0",
   "metadata": {},
   "outputs": [],
   "source": [
    "for item,index in enumerate(l1):\n",
    "    if 'Thailand' in index:\n",
    "        l1.remove('Thailand')"
   ]
  },
  {
   "cell_type": "code",
   "execution_count": 87,
   "id": "1c7aedf4",
   "metadata": {},
   "outputs": [
    {
     "name": "stdout",
     "output_type": "stream",
     "text": [
      "['xyz', 'Bali', 'ktm']\n"
     ]
    }
   ],
   "source": [
    "print(l1)"
   ]
  },
  {
   "cell_type": "code",
   "execution_count": 88,
   "id": "91bea407",
   "metadata": {},
   "outputs": [
    {
     "name": "stdout",
     "output_type": "stream",
     "text": [
      "['xyz', 'Bali']\n"
     ]
    }
   ],
   "source": [
    "a = l1.pop()\n",
    "print(l1)"
   ]
  },
  {
   "cell_type": "code",
   "execution_count": 89,
   "id": "9f06f08a",
   "metadata": {},
   "outputs": [
    {
     "name": "stdout",
     "output_type": "stream",
     "text": [
      "ktm\n"
     ]
    }
   ],
   "source": [
    "print(a)"
   ]
  },
  {
   "cell_type": "code",
   "execution_count": null,
   "id": "f3a8528d",
   "metadata": {},
   "outputs": [],
   "source": []
  },
  {
   "cell_type": "code",
   "execution_count": 101,
   "id": "46d16c7d",
   "metadata": {},
   "outputs": [
    {
     "name": "stdout",
     "output_type": "stream",
     "text": [
      "22 33 0\n"
     ]
    }
   ],
   "source": [
    "def fun1(a, b, c = 0):\n",
    "      print(a,b,c)\n",
    "    \n",
    "fun1(22,33)"
   ]
  },
  {
   "cell_type": "code",
   "execution_count": 102,
   "id": "acba9b17",
   "metadata": {},
   "outputs": [
    {
     "name": "stdout",
     "output_type": "stream",
     "text": [
      "22 33 44\n"
     ]
    }
   ],
   "source": [
    "fun1(22,33,44)"
   ]
  },
  {
   "cell_type": "code",
   "execution_count": 104,
   "id": "e8f02a3e",
   "metadata": {},
   "outputs": [
    {
     "name": "stdout",
     "output_type": "stream",
     "text": [
      "(1, 2, 3, 4, 5)\n"
     ]
    }
   ],
   "source": [
    "def fun1(*args):\n",
    "    print(args)\n",
    "\n",
    "fun1(1,2,3,4,5)"
   ]
  },
  {
   "cell_type": "code",
   "execution_count": 105,
   "id": "3a13c5e1",
   "metadata": {},
   "outputs": [
    {
     "name": "stdout",
     "output_type": "stream",
     "text": [
      "([3, 4, 5],)\n"
     ]
    }
   ],
   "source": [
    "fun1([3,4,5])"
   ]
  },
  {
   "cell_type": "code",
   "execution_count": 106,
   "id": "d69d9e3a",
   "metadata": {},
   "outputs": [
    {
     "name": "stdout",
     "output_type": "stream",
     "text": [
      "Enter num1 22\n",
      "Enter num2 33\n",
      "Sum is 55\n",
      "This is some next stuff\n",
      "Ke cha khabar?\n",
      "Enter num1 2\n",
      "Enter num2 3\n",
      "Sum is 5\n",
      "This is some next stuff\n"
     ]
    }
   ],
   "source": [
    "def add():\n",
    "    num1 = int(input(\"Enter num1 \"))\n",
    "    num2 = int(input(\"Enter num2 \"))\n",
    "    c = num1 + num2\n",
    "    print(f\"Sum is {c}\")\n",
    "    print(\"This is some next stuff\")\n",
    "\n",
    "add()\n",
    "\n",
    "print(\"Ke cha khabar?\")\n",
    "\n",
    "add()\n",
    "\n"
   ]
  },
  {
   "cell_type": "code",
   "execution_count": null,
   "id": "ae6ca4a5",
   "metadata": {},
   "outputs": [],
   "source": []
  },
  {
   "cell_type": "code",
   "execution_count": null,
   "id": "25a2cd86",
   "metadata": {},
   "outputs": [],
   "source": []
  },
  {
   "cell_type": "code",
   "execution_count": null,
   "id": "e012091f",
   "metadata": {},
   "outputs": [],
   "source": []
  }
 ],
 "metadata": {
  "kernelspec": {
   "display_name": "Python 3 (ipykernel)",
   "language": "python",
   "name": "python3"
  },
  "language_info": {
   "codemirror_mode": {
    "name": "ipython",
    "version": 3
   },
   "file_extension": ".py",
   "mimetype": "text/x-python",
   "name": "python",
   "nbconvert_exporter": "python",
   "pygments_lexer": "ipython3",
   "version": "3.9.12"
  }
 },
 "nbformat": 4,
 "nbformat_minor": 5
}
